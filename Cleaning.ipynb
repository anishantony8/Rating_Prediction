{
 "cells": [
  {
   "cell_type": "code",
   "execution_count": 170,
   "id": "d8431829",
   "metadata": {},
   "outputs": [],
   "source": [
    "import pandas as pd"
   ]
  },
  {
   "cell_type": "code",
   "execution_count": 258,
   "id": "2b16a9ae",
   "metadata": {},
   "outputs": [],
   "source": [
    "df1 = pd.read_excel('headphone.xlsx')"
   ]
  },
  {
   "cell_type": "code",
   "execution_count": 259,
   "id": "b12a2c83",
   "metadata": {},
   "outputs": [],
   "source": [
    "df2 = pd.read_excel('headphone2.xlsx')"
   ]
  },
  {
   "cell_type": "code",
   "execution_count": 260,
   "id": "aa826826",
   "metadata": {},
   "outputs": [],
   "source": [
    "df3 = pd.read_excel('headphone3.xlsx')"
   ]
  },
  {
   "cell_type": "code",
   "execution_count": 261,
   "id": "38b1bb8e",
   "metadata": {},
   "outputs": [],
   "source": [
    "df4 = pd.read_excel('headphone4.xlsx')"
   ]
  },
  {
   "cell_type": "code",
   "execution_count": 262,
   "id": "f13dff72",
   "metadata": {},
   "outputs": [],
   "source": [
    "df5 = pd.read_excel('headphone5.xlsx')"
   ]
  },
  {
   "cell_type": "code",
   "execution_count": 263,
   "id": "bf62c22b",
   "metadata": {},
   "outputs": [],
   "source": [
    "df6 = pd.read_excel('headphone6.xlsx')"
   ]
  },
  {
   "cell_type": "code",
   "execution_count": 264,
   "id": "92387c58",
   "metadata": {},
   "outputs": [],
   "source": [
    "df7 = pd.read_excel('headphone7.xlsx')"
   ]
  },
  {
   "cell_type": "code",
   "execution_count": 265,
   "id": "193e7453",
   "metadata": {},
   "outputs": [],
   "source": [
    "df8 = pd.read_excel('headphone8.xlsx')"
   ]
  },
  {
   "cell_type": "code",
   "execution_count": 266,
   "id": "462fc8de",
   "metadata": {},
   "outputs": [],
   "source": [
    "df9 = pd.read_excel('headphone10.xlsx')"
   ]
  },
  {
   "cell_type": "code",
   "execution_count": 267,
   "id": "d7a02d67",
   "metadata": {},
   "outputs": [],
   "source": [
    "df10 = pd.read_excel('tv3.xlsx')"
   ]
  },
  {
   "cell_type": "code",
   "execution_count": 268,
   "id": "ace7a974",
   "metadata": {},
   "outputs": [],
   "source": [
    "df = pd.concat([df2,df3,df4,df5,df6,df7,df8,df9],axis=0)"
   ]
  },
  {
   "cell_type": "code",
   "execution_count": 269,
   "id": "14a7fa20",
   "metadata": {},
   "outputs": [],
   "source": [
    "df = df.drop(['Unnamed: 0'],axis=1)"
   ]
  },
  {
   "cell_type": "code",
   "execution_count": 270,
   "id": "73010e9f",
   "metadata": {},
   "outputs": [],
   "source": [
    "list1 = df[3].to_list()"
   ]
  },
  {
   "cell_type": "code",
   "execution_count": 271,
   "id": "5747948f",
   "metadata": {},
   "outputs": [],
   "source": [
    "Review = []\n",
    "for i in list1:\n",
    "    Review.append(''.join(i.split('\\n')[1] +' ' +  i.split('\\n')[-3]))"
   ]
  },
  {
   "cell_type": "code",
   "execution_count": 272,
   "id": "a2a24811",
   "metadata": {},
   "outputs": [
    {
     "data": {
      "text/plain": [
       "17885"
      ]
     },
     "execution_count": 272,
     "metadata": {},
     "output_type": "execute_result"
    }
   ],
   "source": [
    "len(Review)"
   ]
  },
  {
   "cell_type": "code",
   "execution_count": 273,
   "id": "162a3634",
   "metadata": {},
   "outputs": [],
   "source": [
    "df[1].fillna('Not availble',inplace=True)"
   ]
  },
  {
   "cell_type": "code",
   "execution_count": 274,
   "id": "aeac4944",
   "metadata": {},
   "outputs": [],
   "source": [
    "Rating = df[1].to_list()"
   ]
  },
  {
   "cell_type": "code",
   "execution_count": 275,
   "id": "f8f3cb48",
   "metadata": {},
   "outputs": [
    {
     "data": {
      "text/plain": [
       "17885"
      ]
     },
     "execution_count": 275,
     "metadata": {},
     "output_type": "execute_result"
    }
   ],
   "source": [
    "len(Rating)"
   ]
  },
  {
   "cell_type": "code",
   "execution_count": 276,
   "id": "e19554de",
   "metadata": {},
   "outputs": [],
   "source": [
    "Amazon = pd.DataFrame(zip(Review,Rating),columns=('Review','Rating'))"
   ]
  },
  {
   "cell_type": "code",
   "execution_count": 277,
   "id": "fdd33bcc",
   "metadata": {},
   "outputs": [],
   "source": [
    "a = pd.read_excel('tv3.xlsx').drop(['Unnamed: 0'],axis=1)"
   ]
  },
  {
   "cell_type": "code",
   "execution_count": 278,
   "id": "90d35cc1",
   "metadata": {},
   "outputs": [],
   "source": [
    "list2 = a[0].to_list()"
   ]
  },
  {
   "cell_type": "code",
   "execution_count": 279,
   "id": "9d5c2e47",
   "metadata": {},
   "outputs": [
    {
     "data": {
      "text/plain": [
       "'Umesh katkar\\nOverall good\\nReviewed in India on July 26, 2022\\nPattern Name: Y1 SeriesSize: 32 inchesVerified Purchase\\nSound is average\\n\\nHelpful\\nReport abuse'"
      ]
     },
     "execution_count": 279,
     "metadata": {},
     "output_type": "execute_result"
    }
   ],
   "source": [
    "list2[10]"
   ]
  },
  {
   "cell_type": "code",
   "execution_count": 280,
   "id": "3598cb41",
   "metadata": {},
   "outputs": [
    {
     "data": {
      "text/plain": [
       "'Satyam tiwari\\nIts Good but Not the best\\nReviewed in India on May 25, 2022\\nPattern Name: Y1 SeriesSize: 32 inchesVerified Purchase\\nIts good Android Tv , but hangs a lot , Picture Quality is good but not the best\\nHelpful\\nReport abuse'"
      ]
     },
     "execution_count": 280,
     "metadata": {},
     "output_type": "execute_result"
    }
   ],
   "source": [
    "list1[10]"
   ]
  },
  {
   "cell_type": "code",
   "execution_count": 281,
   "id": "6ef0ac06",
   "metadata": {},
   "outputs": [],
   "source": [
    "Review1 = []\n",
    "for i in list2:\n",
    "    Review1.append(''.join(i.split('\\n')[1] +' ' +  i.split('\\n')[-3]))"
   ]
  },
  {
   "cell_type": "code",
   "execution_count": 282,
   "id": "c40e36ec",
   "metadata": {},
   "outputs": [
    {
     "name": "stderr",
     "output_type": "stream",
     "text": [
      "C:\\Users\\anish\\AppData\\Local\\Temp/ipykernel_9432/2292338391.py:1: FutureWarning: The default value of regex will change from True to False in a future version.\n",
      "  a[1] = a[1].str.replace('3.8 out of 5 stars','4.0 out of 5 stars').str.replace('3.9 out of 5 stars','4.0 out of 5 stars').str.replace('4.1 out of 5 stars','4.0 out of 5 stars').str.replace('4.2 out of 5 stars','4.0 out of 5 stars')\n"
     ]
    }
   ],
   "source": [
    "a[1] = a[1].str.replace('3.8 out of 5 stars','4.0 out of 5 stars').str.replace('3.9 out of 5 stars','4.0 out of 5 stars').str.replace('4.1 out of 5 stars','4.0 out of 5 stars').str.replace('4.2 out of 5 stars','4.0 out of 5 stars')"
   ]
  },
  {
   "cell_type": "code",
   "execution_count": 283,
   "id": "433cdac5",
   "metadata": {},
   "outputs": [
    {
     "data": {
      "text/plain": [
       "array(['4.0 out of 5 stars', '3.0 out of 5 stars', '5.0 out of 5 stars',\n",
       "       '1.0 out of 5 stars', '2.0 out of 5 stars'], dtype=object)"
      ]
     },
     "execution_count": 283,
     "metadata": {},
     "output_type": "execute_result"
    }
   ],
   "source": [
    "a[1].unique()"
   ]
  },
  {
   "cell_type": "code",
   "execution_count": 284,
   "id": "9162f0b0",
   "metadata": {},
   "outputs": [],
   "source": [
    "Rating1 = a[1].to_list()"
   ]
  },
  {
   "cell_type": "code",
   "execution_count": 285,
   "id": "38c0b7b3",
   "metadata": {},
   "outputs": [],
   "source": [
    "am = pd.DataFrame(zip(Review1,Rating1),columns=('Review','Rating'))"
   ]
  },
  {
   "cell_type": "code",
   "execution_count": 286,
   "id": "7d0bee55",
   "metadata": {},
   "outputs": [],
   "source": [
    "Amazon_Review = pd.concat([Amazon,am],axis=0)"
   ]
  },
  {
   "cell_type": "code",
   "execution_count": 287,
   "id": "9a4158f6",
   "metadata": {},
   "outputs": [
    {
     "name": "stderr",
     "output_type": "stream",
     "text": [
      "C:\\Users\\anish\\AppData\\Local\\Temp/ipykernel_9432/3306000309.py:1: FutureWarning: The default value of regex will change from True to False in a future version.\n",
      "  Amazon_Review['Rating'] = Amazon_Review['Rating'].str.replace('.0 out of 5 stars','')\n"
     ]
    }
   ],
   "source": [
    "Amazon_Review['Rating'] = Amazon_Review['Rating'].str.replace('.0 out of 5 stars','')"
   ]
  },
  {
   "cell_type": "code",
   "execution_count": null,
   "id": "49c28e23",
   "metadata": {},
   "outputs": [],
   "source": []
  },
  {
   "cell_type": "code",
   "execution_count": 288,
   "id": "bb4f8aa1",
   "metadata": {},
   "outputs": [],
   "source": [
    "ef1 = pd.read_excel(\"boat1.xlsx\")\n",
    "ef2 = pd.read_excel(\"camera.xlsx\")\n",
    "ef3 = pd.read_excel(\"head2.xlsx\")\n",
    "ef4 = pd.read_excel(\"head3.xlsx\")\n",
    "ef5 = pd.read_excel(\"head4.xlsx\")\n",
    "ef6 = pd.read_excel(\"head5.xlsx\")\n",
    "ef7 = pd.read_excel(\"head6.xlsx\")\n",
    "ef8 = pd.read_excel(\"laptop1.xlsx\")\n",
    "ef9 = pd.read_excel(\"smartwatch1.xlsx\")\n",
    "ef10 = pd.read_excel(\"smartwatch2.xlsx\")\n",
    "ef11= pd.read_excel(\"smartwatch3.xlsx\")\n",
    "ef12 = pd.read_excel(\"smartwatch4.xlsx\")"
   ]
  },
  {
   "cell_type": "code",
   "execution_count": 289,
   "id": "ea8db706",
   "metadata": {},
   "outputs": [],
   "source": [
    "fl = pd.concat([ef1,ef2,ef3,ef4,ef5,ef6,ef7,ef8,ef9,ef10,ef11,ef12],axis=0)"
   ]
  },
  {
   "cell_type": "code",
   "execution_count": 290,
   "id": "327a433f",
   "metadata": {},
   "outputs": [],
   "source": [
    "fl.drop(['Unnamed: 0'],axis=1,inplace=True)"
   ]
  },
  {
   "cell_type": "code",
   "execution_count": 291,
   "id": "9902edfb",
   "metadata": {},
   "outputs": [],
   "source": [
    "list3 = fl[0].to_list()"
   ]
  },
  {
   "cell_type": "code",
   "execution_count": 292,
   "id": "ee2a4b3e",
   "metadata": {},
   "outputs": [
    {
     "data": {
      "text/plain": [
       "['4',\n",
       " 'Pretty good',\n",
       " 'I brought this watch to gift it to my wife, and she likes too much. The design is good, the touch of watch is very responsive and smooth, overall its been good choice for gifting.',\n",
       " '',\n",
       " \"Cons weather can't synchronised.\",\n",
       " 'Aatish Shah',\n",
       " 'Certified Buyer, Nadiad',\n",
       " '6 months ago',\n",
       " '726255']"
      ]
     },
     "execution_count": 292,
     "metadata": {},
     "output_type": "execute_result"
    }
   ],
   "source": [
    "list3[0].split('\\n')"
   ]
  },
  {
   "cell_type": "code",
   "execution_count": 293,
   "id": "212b22af",
   "metadata": {},
   "outputs": [],
   "source": [
    "Rating2 = []\n",
    "for i in list3:\n",
    "    Rating2.append(i[0])"
   ]
  },
  {
   "cell_type": "code",
   "execution_count": 294,
   "id": "5731f0ec",
   "metadata": {},
   "outputs": [
    {
     "data": {
      "text/plain": [
       "['Pretty good',\n",
       " 'I brought this watch to gift it to my wife, and she likes too much. The design is good, the touch of watch is very responsive and smooth, overall its been good choice for gifting.',\n",
       " '',\n",
       " \"Cons weather can't synchronised.\"]"
      ]
     },
     "execution_count": 294,
     "metadata": {},
     "output_type": "execute_result"
    }
   ],
   "source": [
    "list3[0].split('\\n')[1:-4]"
   ]
  },
  {
   "cell_type": "code",
   "execution_count": 308,
   "id": "22ce94b7",
   "metadata": {},
   "outputs": [],
   "source": [
    "Review2 = []\n",
    "for i in list3:\n",
    "    Review2.append(' '.join(i.split('\\n')[1:-4]))"
   ]
  },
  {
   "cell_type": "code",
   "execution_count": 309,
   "id": "d1d5fcb1",
   "metadata": {},
   "outputs": [
    {
     "data": {
      "text/plain": [
       "10960"
      ]
     },
     "execution_count": 309,
     "metadata": {},
     "output_type": "execute_result"
    }
   ],
   "source": [
    "len(Rating2)"
   ]
  },
  {
   "cell_type": "code",
   "execution_count": 310,
   "id": "6c007e2e",
   "metadata": {},
   "outputs": [],
   "source": [
    "flipkart = pd.DataFrame(zip(Review2,Rating2),columns=('Review','Rating'))"
   ]
  },
  {
   "cell_type": "code",
   "execution_count": 311,
   "id": "5190914c",
   "metadata": {},
   "outputs": [],
   "source": [
    "Rating_prediction = pd.concat([Amazon_Review,flipkart],axis=0)"
   ]
  },
  {
   "cell_type": "code",
   "execution_count": 312,
   "id": "44c4d72a",
   "metadata": {},
   "outputs": [],
   "source": [
    "Rating_prediction.reset_index(inplace = True)"
   ]
  },
  {
   "cell_type": "code",
   "execution_count": 313,
   "id": "5ca41ba8",
   "metadata": {},
   "outputs": [],
   "source": [
    "Rating_prediction.drop('index',axis=1,inplace=True)"
   ]
  },
  {
   "cell_type": "code",
   "execution_count": 315,
   "id": "f2e20ca2",
   "metadata": {},
   "outputs": [
    {
     "data": {
      "text/html": [
       "<div>\n",
       "<style scoped>\n",
       "    .dataframe tbody tr th:only-of-type {\n",
       "        vertical-align: middle;\n",
       "    }\n",
       "\n",
       "    .dataframe tbody tr th {\n",
       "        vertical-align: top;\n",
       "    }\n",
       "\n",
       "    .dataframe thead th {\n",
       "        text-align: right;\n",
       "    }\n",
       "</style>\n",
       "<table border=\"1\" class=\"dataframe\">\n",
       "  <thead>\n",
       "    <tr style=\"text-align: right;\">\n",
       "      <th></th>\n",
       "      <th>Review</th>\n",
       "      <th>Rating</th>\n",
       "    </tr>\n",
       "  </thead>\n",
       "  <tbody>\n",
       "    <tr>\n",
       "      <th>0</th>\n",
       "      <td>Value for money</td>\n",
       "      <td>4</td>\n",
       "    </tr>\n",
       "    <tr>\n",
       "      <th>1</th>\n",
       "      <td>Good Good</td>\n",
       "      <td>4</td>\n",
       "    </tr>\n",
       "    <tr>\n",
       "      <th>2</th>\n",
       "      <td>Nice led TV</td>\n",
       "      <td>4</td>\n",
       "    </tr>\n",
       "    <tr>\n",
       "      <th>3</th>\n",
       "      <td>Very good</td>\n",
       "      <td>4</td>\n",
       "    </tr>\n",
       "    <tr>\n",
       "      <th>4</th>\n",
       "      <td>Processing very slow All thing is good but pro...</td>\n",
       "      <td>5</td>\n",
       "    </tr>\n",
       "    <tr>\n",
       "      <th>...</th>\n",
       "      <td>...</td>\n",
       "      <td>...</td>\n",
       "    </tr>\n",
       "    <tr>\n",
       "      <th>30450</th>\n",
       "      <td>Must buy! Very smooth and good</td>\n",
       "      <td>5</td>\n",
       "    </tr>\n",
       "    <tr>\n",
       "      <th>30451</th>\n",
       "      <td>Best in the market! this is awesome</td>\n",
       "      <td>5</td>\n",
       "    </tr>\n",
       "    <tr>\n",
       "      <th>30452</th>\n",
       "      <td>Must buy! Good purchase</td>\n",
       "      <td>5</td>\n",
       "    </tr>\n",
       "    <tr>\n",
       "      <th>30453</th>\n",
       "      <td>Nice Decent product 👌</td>\n",
       "      <td>3</td>\n",
       "    </tr>\n",
       "    <tr>\n",
       "      <th>30454</th>\n",
       "      <td>Perfect product! It is good product and low co...</td>\n",
       "      <td>5</td>\n",
       "    </tr>\n",
       "  </tbody>\n",
       "</table>\n",
       "<p>30455 rows × 2 columns</p>\n",
       "</div>"
      ],
      "text/plain": [
       "                                                  Review Rating\n",
       "0                                       Value for money       4\n",
       "1                                              Good Good      4\n",
       "2                                           Nice led TV       4\n",
       "3                                             Very good       4\n",
       "4      Processing very slow All thing is good but pro...      5\n",
       "...                                                  ...    ...\n",
       "30450                     Must buy! Very smooth and good      5\n",
       "30451                Best in the market! this is awesome      5\n",
       "30452                            Must buy! Good purchase      5\n",
       "30453                              Nice Decent product 👌      3\n",
       "30454  Perfect product! It is good product and low co...      5\n",
       "\n",
       "[30455 rows x 2 columns]"
      ]
     },
     "execution_count": 315,
     "metadata": {},
     "output_type": "execute_result"
    }
   ],
   "source": [
    "Rating_prediction"
   ]
  },
  {
   "cell_type": "code",
   "execution_count": 316,
   "id": "97c63d0f",
   "metadata": {},
   "outputs": [
    {
     "data": {
      "text/plain": [
       "5               14315\n",
       "4                8199\n",
       "1                3405\n",
       "3                2875\n",
       "2                1228\n",
       "Not availble      433\n",
       "Name: Rating, dtype: int64"
      ]
     },
     "execution_count": 316,
     "metadata": {},
     "output_type": "execute_result"
    }
   ],
   "source": [
    "Rating_prediction['Rating'].value_counts()"
   ]
  },
  {
   "cell_type": "code",
   "execution_count": 317,
   "id": "9a7cf32a",
   "metadata": {},
   "outputs": [],
   "source": [
    "Rating_prediction = Rating_prediction.replace('Not availble',None)"
   ]
  },
  {
   "cell_type": "code",
   "execution_count": 318,
   "id": "265d5e9c",
   "metadata": {},
   "outputs": [],
   "source": [
    "Rating_prediction = Rating_prediction.dropna()"
   ]
  },
  {
   "cell_type": "code",
   "execution_count": 319,
   "id": "991ccb78",
   "metadata": {},
   "outputs": [
    {
     "data": {
      "text/html": [
       "<div>\n",
       "<style scoped>\n",
       "    .dataframe tbody tr th:only-of-type {\n",
       "        vertical-align: middle;\n",
       "    }\n",
       "\n",
       "    .dataframe tbody tr th {\n",
       "        vertical-align: top;\n",
       "    }\n",
       "\n",
       "    .dataframe thead th {\n",
       "        text-align: right;\n",
       "    }\n",
       "</style>\n",
       "<table border=\"1\" class=\"dataframe\">\n",
       "  <thead>\n",
       "    <tr style=\"text-align: right;\">\n",
       "      <th></th>\n",
       "      <th>Review</th>\n",
       "      <th>Rating</th>\n",
       "    </tr>\n",
       "  </thead>\n",
       "  <tbody>\n",
       "    <tr>\n",
       "      <th>0</th>\n",
       "      <td>Value for money</td>\n",
       "      <td>4</td>\n",
       "    </tr>\n",
       "    <tr>\n",
       "      <th>1</th>\n",
       "      <td>Good Good</td>\n",
       "      <td>4</td>\n",
       "    </tr>\n",
       "    <tr>\n",
       "      <th>2</th>\n",
       "      <td>Nice led TV</td>\n",
       "      <td>4</td>\n",
       "    </tr>\n",
       "    <tr>\n",
       "      <th>3</th>\n",
       "      <td>Very good</td>\n",
       "      <td>4</td>\n",
       "    </tr>\n",
       "    <tr>\n",
       "      <th>4</th>\n",
       "      <td>Processing very slow All thing is good but pro...</td>\n",
       "      <td>5</td>\n",
       "    </tr>\n",
       "    <tr>\n",
       "      <th>...</th>\n",
       "      <td>...</td>\n",
       "      <td>...</td>\n",
       "    </tr>\n",
       "    <tr>\n",
       "      <th>30450</th>\n",
       "      <td>Must buy! Very smooth and good</td>\n",
       "      <td>5</td>\n",
       "    </tr>\n",
       "    <tr>\n",
       "      <th>30451</th>\n",
       "      <td>Best in the market! this is awesome</td>\n",
       "      <td>5</td>\n",
       "    </tr>\n",
       "    <tr>\n",
       "      <th>30452</th>\n",
       "      <td>Must buy! Good purchase</td>\n",
       "      <td>5</td>\n",
       "    </tr>\n",
       "    <tr>\n",
       "      <th>30453</th>\n",
       "      <td>Nice Decent product 👌</td>\n",
       "      <td>3</td>\n",
       "    </tr>\n",
       "    <tr>\n",
       "      <th>30454</th>\n",
       "      <td>Perfect product! It is good product and low co...</td>\n",
       "      <td>5</td>\n",
       "    </tr>\n",
       "  </tbody>\n",
       "</table>\n",
       "<p>30455 rows × 2 columns</p>\n",
       "</div>"
      ],
      "text/plain": [
       "                                                  Review Rating\n",
       "0                                       Value for money       4\n",
       "1                                              Good Good      4\n",
       "2                                           Nice led TV       4\n",
       "3                                             Very good       4\n",
       "4      Processing very slow All thing is good but pro...      5\n",
       "...                                                  ...    ...\n",
       "30450                     Must buy! Very smooth and good      5\n",
       "30451                Best in the market! this is awesome      5\n",
       "30452                            Must buy! Good purchase      5\n",
       "30453                              Nice Decent product 👌      3\n",
       "30454  Perfect product! It is good product and low co...      5\n",
       "\n",
       "[30455 rows x 2 columns]"
      ]
     },
     "execution_count": 319,
     "metadata": {},
     "output_type": "execute_result"
    }
   ],
   "source": [
    "Rating_prediction"
   ]
  },
  {
   "cell_type": "code",
   "execution_count": 322,
   "id": "ff71fbe6",
   "metadata": {},
   "outputs": [],
   "source": [
    "Rating_prediction['Rating'] = Rating_prediction['Rating'].astype(int)"
   ]
  },
  {
   "cell_type": "code",
   "execution_count": 323,
   "id": "23344e24",
   "metadata": {},
   "outputs": [],
   "source": [
    "Rating_prediction.to_excel('Rating_prediction.xlsx')"
   ]
  },
  {
   "cell_type": "code",
   "execution_count": null,
   "id": "ea6ef891",
   "metadata": {},
   "outputs": [],
   "source": []
  }
 ],
 "metadata": {
  "kernelspec": {
   "display_name": "Python 3 (ipykernel)",
   "language": "python",
   "name": "python3"
  },
  "language_info": {
   "codemirror_mode": {
    "name": "ipython",
    "version": 3
   },
   "file_extension": ".py",
   "mimetype": "text/x-python",
   "name": "python",
   "nbconvert_exporter": "python",
   "pygments_lexer": "ipython3",
   "version": "3.9.7"
  }
 },
 "nbformat": 4,
 "nbformat_minor": 5
}
